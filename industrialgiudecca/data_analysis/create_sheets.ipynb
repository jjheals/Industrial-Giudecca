{
 "cells": [
  {
   "cell_type": "markdown",
   "metadata": {},
   "source": [
    "# create_sheets.ipynb\n",
    "\n",
    "*Sheet to take a single .xlsx file containing all the tables in different sheets, clean the data, and convert these to individual CSV files to be uploaded to ArcGIS*"
   ]
  },
  {
   "cell_type": "markdown",
   "metadata": {},
   "source": [
    "## Imports"
   ]
  },
  {
   "cell_type": "markdown",
   "metadata": {},
   "source": [
    "### Library imports"
   ]
  },
  {
   "cell_type": "code",
   "execution_count": 10,
   "metadata": {},
   "outputs": [],
   "source": [
    "import pandas as pd "
   ]
  },
  {
   "cell_type": "markdown",
   "metadata": {},
   "source": [
    "### Define file/directory paths"
   ]
  },
  {
   "cell_type": "markdown",
   "metadata": {},
   "source": [
    "**Modify these variables to match environment**"
   ]
  },
  {
   "cell_type": "code",
   "execution_count": 11,
   "metadata": {},
   "outputs": [],
   "source": [
    "input_dir:str = 'sheets/excel/'                 # Path to the directory containing the single excel sheet (original_file)\n",
    "output_dir:str = 'sheets/csvs/'                 # Path to the directory to output the individual CSV files\n",
    "original_file:str = 'Giudecca_Factories.xlsx'   # Filename of the original excel file to clean and separate \n",
    "\n",
    "# Sheet names of interest in the excel file\n",
    "sheet_names:list[str] = [\n",
    "    'Building',                         # Building (Entity table)\n",
    "    'Giudecca_Pop_Over_Time',           # Population of Giudecca over time (Entity table)\n",
    "    'Factory',                          # Factory (Entity table)\n",
    "    'Factory_At_Building',              # Match a Factory to a Building (Relationship table)\n",
    "    'Timeperiod',                      # Contextually significant timeperiods (Entity table) \n",
    "    'Factory_Stories',                  # Stories for the factories with most information (Relationship table)\n",
    "    'Product_Over_Time',                # Product(s) for each factory over time (Relationship table) \n",
    "    'Employment_Over_Time',             # Employment for each factory over time (Relationship table)\n",
    "    'Owner_Over_Time',                  # Owner for each factory over time (Relationship table)\n",
    "]\n",
    "\n"
   ]
  },
  {
   "cell_type": "markdown",
   "metadata": {},
   "source": [
    "**Do not modify these variables**"
   ]
  },
  {
   "cell_type": "code",
   "execution_count": 12,
   "metadata": {},
   "outputs": [],
   "source": [
    "\n",
    "dfs_dict:dict[str, pd.DataFrame] = { \n",
    "    n : pd.read_excel(input_dir + original_file, sheet_name=n) \n",
    "    for n in sheet_names\n",
    "}"
   ]
  },
  {
   "cell_type": "markdown",
   "metadata": {},
   "source": [
    "## Data cleaning"
   ]
  },
  {
   "cell_type": "markdown",
   "metadata": {},
   "source": [
    "**Cleaning each df to be standard**"
   ]
  },
  {
   "cell_type": "code",
   "execution_count": 13,
   "metadata": {},
   "outputs": [],
   "source": [
    "cleaned_dfs:dict[str, pd.DataFrame] = {}\n",
    "\n",
    "# Iterate over dfs_dict and clean each df\n",
    "for k,df in dfs_dict.items():\n",
    "    # Remove leading and trailing whitespace and make the datatype int if possible\n",
    "    clean_df = df.applymap(lambda x: \n",
    "                    int(float(x.strip())) if isinstance(x, str) and x.strip().isdigit() # Convert to int if the val is a digit\n",
    "                    else x.strip() if isinstance(x, str)                         # Remove whitespace\n",
    "                    else x                                                       # Default\n",
    "                )\n",
    "    \n",
    "    # Convert the new (cleaned) DF into a CSV with the sheetname (key) as the filename\n",
    "    clean_df.to_csv(output_dir + k + '.csv')\n",
    "        "
   ]
  }
 ],
 "metadata": {
  "kernelspec": {
   "display_name": "Python 3",
   "language": "python",
   "name": "python3"
  },
  "language_info": {
   "codemirror_mode": {
    "name": "ipython",
    "version": 3
   },
   "file_extension": ".py",
   "mimetype": "text/x-python",
   "name": "python",
   "nbconvert_exporter": "python",
   "pygments_lexer": "ipython3",
   "version": "3.11.1"
  }
 },
 "nbformat": 4,
 "nbformat_minor": 2
}
